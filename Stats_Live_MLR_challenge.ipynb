{
 "cells": [
  {
   "cell_type": "markdown",
   "id": "c162a61e",
   "metadata": {},
   "source": [
    "#CHALLENGE TASK\n",
    "#Stats Challege notebook \n",
    "#Fit multiple linear regression for the following data and check for the assumptions using python\n",
    "#X1 22 22 25 26 24 28 29 27 24 33 39 42\n",
    "#X2 15 14 18 13 12 11 11 10 5  9  7  3\n",
    "#Y 55 56 55 59 66 65 69 70 75 75 78 79"
   ]
  },
  {
   "cell_type": "code",
   "execution_count": 2,
   "id": "bcd9f522",
   "metadata": {},
   "outputs": [],
   "source": [
    "import numpy as np\n",
    "import pandas as pd\n",
    "import statsmodels.api as sm\n",
    "import matplotlib.pyplot as plt"
   ]
  },
  {
   "cell_type": "code",
   "execution_count": 3,
   "id": "0b14a429",
   "metadata": {},
   "outputs": [
    {
     "name": "stdout",
     "output_type": "stream",
     "text": [
      "    X1  X2   Y\n",
      "0   22  15  55\n",
      "1   22  14  56\n",
      "2   25  18  55\n",
      "3   26  13  59\n",
      "4   24  12  66\n",
      "5   28  11  65\n",
      "6   29  11  69\n",
      "7   27  10  70\n",
      "8   24   5  75\n",
      "9   33   9  75\n",
      "10  39   7  78\n",
      "11  42   3  79\n"
     ]
    }
   ],
   "source": [
    "\"\"\" Convert the data values into DataFrames\"\"\"\n",
    "stats_chal={\"X1\":[22, 22, 25, 26, 24, 28, 29, 27, 24, 33, 39, 42],\n",
    "           \"X2\":[15, 14, 18, 13, 12, 11, 11, 10, 5,  9,  7,  3],\n",
    "           \"Y\":[55, 56, 55, 59, 66, 65, 69, 70, 75, 75, 78, 79]}\n",
    "df = pd.DataFrame(stats_chal,columns=['X1','X2','Y']) \n",
    "print (df)"
   ]
  },
  {
   "cell_type": "code",
   "execution_count": 6,
   "id": "f642b08a",
   "metadata": {},
   "outputs": [
    {
     "data": {
      "image/png": "[encoded data removed]",
      "text/plain": [
       "<Figure size 432x288 with 1 Axes>"
      ]
     },
     "metadata": {
      "needs_background": "light"
     },
     "output_type": "display_data"
    },
    {
     "data": {
      "text/plain": [
       "'its clear that indeed a linear relationship exists between the X1 values and the Y values. \\nSpecifically, when X1 values go up, the Y values also goes up'"
      ]
     },
     "execution_count": 6,
     "metadata": {},
     "output_type": "execute_result"
    }
   ],
   "source": [
    "\"\"\"Check for the linearity\"\"\"\n",
    "plt.scatter(df['X1'], df['Y'], color='green')\n",
    "plt.xlabel('X1 values', fontsize=14)\n",
    "plt.ylabel('Y values', fontsize=14)\n",
    "plt.grid(True)\n",
    "plt.show()\n",
    "\"\"\"its clear that indeed a linear relationship exists between the X1 values and the Y values. \n",
    "Specifically, when X1 values go up, the Y values also goes up\"\"\""
   ]
  },
  {
   "cell_type": "code",
   "execution_count": 7,
   "id": "d7a9bf21",
   "metadata": {},
   "outputs": [
    {
     "data": {
      "image/png": "[encoded data removed]",
      "text/plain": [
       "<Figure size 432x288 with 1 Axes>"
      ]
     },
     "metadata": {
      "needs_background": "light"
     },
     "output_type": "display_data"
    },
    {
     "data": {
      "text/plain": [
       "'its clear that indeed a linear relationship exists between the X2 values and the Y values. \\nSpecifically, when X2 values go up, the Y values also goes down but with a negative slope'"
      ]
     },
     "execution_count": 7,
     "metadata": {},
     "output_type": "execute_result"
    }
   ],
   "source": [
    "\"\"\"Check for the linearity\"\"\"\n",
    "plt.scatter(df['X2'], df['Y'], color='blue')\n",
    "plt.xlabel('X2 values', fontsize=14)\n",
    "plt.ylabel('Y values', fontsize=14)\n",
    "plt.grid(True)\n",
    "plt.show()\n",
    "\"\"\"its clear that indeed a linear relationship exists between the X2 values and the Y values. \n",
    "Specifically, when X2 values go up, the Y values also goes down but with a negative slope\"\"\""
   ]
  },
  {
   "cell_type": "code",
   "execution_count": 21,
   "id": "de2c2d46",
   "metadata": {},
   "outputs": [],
   "source": [
    "\"\"\"Performing the Multiple Linear Regression\"\"\"\n",
    "X = df[['X1','X2']] # here we have 2 variables for multiple regression.\n",
    "Y = df['Y']"
   ]
  },
  {
   "cell_type": "code",
   "execution_count": 48,
   "id": "aae0aef5",
   "metadata": {},
   "outputs": [
    {
     "name": "stdout",
     "output_type": "stream",
     "text": [
      "                            OLS Regression Results                            \n",
      "==============================================================================\n",
      "Dep. Variable:                      Y   R-squared:                       0.894\n",
      "Model:                            OLS   Adj. R-squared:                  0.871\n",
      "Method:                 Least Squares   F-statistic:                     38.06\n",
      "Date:                Fri, 18 Mar 2022   Prob (F-statistic):           4.06e-05\n",
      "Time:                        08:08:19   Log-Likelihood:                -29.341\n",
      "No. Observations:                  12   AIC:                             64.68\n",
      "Df Residuals:                       9   BIC:                             66.14\n",
      "Df Model:                           2                                         \n",
      "Covariance Type:            nonrobust                                         \n",
      "==============================================================================\n",
      "                 coef    std err          t      P>|t|      [0.025      0.975]\n",
      "------------------------------------------------------------------------------\n",
      "const         74.5958      8.724      8.551      0.000      54.861      94.330\n",
      "X1             0.3314      0.210      1.581      0.148      -0.143       0.806\n",
      "X2            -1.6106      0.319     -5.055      0.001      -2.331      -0.890\n",
      "==============================================================================\n",
      "Omnibus:                        2.735   Durbin-Watson:                   1.793\n",
      "Prob(Omnibus):                  0.255   Jarque-Bera (JB):                1.114\n",
      "Skew:                          -0.282   Prob(JB):                        0.573\n",
      "Kurtosis:                       1.618   Cond. No.                         289.\n",
      "==============================================================================\n",
      "\n",
      "Notes:\n",
      "[1] Standard Errors assume that the covariance matrix of the errors is correctly specified.\n"
     ]
    },
    {
     "name": "stderr",
     "output_type": "stream",
     "text": [
      "C:\\Users\\USER\\anaconda3\\lib\\site-packages\\scipy\\stats\\stats.py:1603: UserWarning: kurtosistest only valid for n>=20 ... continuing anyway, n=12\n",
      "  warnings.warn(\"kurtosistest only valid for n>=20 ... continuing \"\n"
     ]
    }
   ],
   "source": [
    "# with statsmodels\n",
    "X = sm.add_constant(X) # adding a constant\n",
    " \n",
    "mlr_model = sm.OLS(Y, X).fit()\n",
    "predictions = mlr_model.predict(X) \n",
    " \n",
    "print_model = mlr_model.summary()\n",
    "print(print_model)"
   ]
  },
  {
   "cell_type": "code",
   "execution_count": 9,
   "id": "0213a21b",
   "metadata": {},
   "outputs": [
    {
     "data": {
      "text/plain": [
       "57.7276"
      ]
     },
     "execution_count": 9,
     "metadata": {},
     "output_type": "execute_result"
    }
   ],
   "source": [
    "\"\"\"If you plug that X1=22, X2=15 data into the regression equation, \n",
    "you’ll get the same predicted result of Y values \"\"\"\n",
    "y =  (74.5958) +  (0.3314)*(22)+(-1.6106)*(15)\n",
    "y"
   ]
  },
  {
   "cell_type": "code",
   "execution_count": null,
   "id": "5f9a7b5b",
   "metadata": {},
   "outputs": [],
   "source": [
    "y =  (74.5958) +  (0.3314)*(X1)+(-1.6106)*(X2)"
   ]
  },
  {
   "cell_type": "code",
   "execution_count": null,
   "id": "a162dc0a",
   "metadata": {},
   "outputs": [],
   "source": [
    "predicted_values=(74.5958) +  (0.3314)*(X1)+(-1.6106)*(X2)\n",
    "predicted_values"
   ]
  },
  {
   "cell_type": "code",
   "execution_count": 24,
   "id": "89b1d01b",
   "metadata": {},
   "outputs": [
    {
     "data": {
      "text/plain": [
       "array([[22, 15],\n",
       "       [22, 14],\n",
       "       [25, 18],\n",
       "       [26, 13],\n",
       "       [24, 12],\n",
       "       [28, 11],\n",
       "       [29, 11],\n",
       "       [27, 10],\n",
       "       [24,  5],\n",
       "       [33,  9],\n",
       "       [39,  7],\n",
       "       [42,  3]], dtype=int64)"
      ]
     },
     "execution_count": 24,
     "metadata": {},
     "output_type": "execute_result"
    }
   ],
   "source": [
    "X = df[['X1','X2']].values\n",
    "X"
   ]
  },
  {
   "cell_type": "code",
   "execution_count": null,
   "id": "56404036",
   "metadata": {},
   "outputs": [],
   "source": [
    "sns.regplot(data=df,x=\"X\",y=\"Y\",color=\"green\") #OLS"
   ]
  },
  {
   "cell_type": "code",
   "execution_count": 26,
   "id": "ad03e3e9",
   "metadata": {},
   "outputs": [
    {
     "data": {
      "text/plain": [
       "0     55\n",
       "1     56\n",
       "2     55\n",
       "3     59\n",
       "4     66\n",
       "5     65\n",
       "6     69\n",
       "7     70\n",
       "8     75\n",
       "9     75\n",
       "10    78\n",
       "11    79\n",
       "Name: Y, dtype: int64"
      ]
     },
     "execution_count": 26,
     "metadata": {},
     "output_type": "execute_result"
    }
   ],
   "source": [
    "y=df[\"Y\"]\n",
    "y"
   ]
  },
  {
   "cell_type": "code",
   "execution_count": 27,
   "id": "fff9c28b",
   "metadata": {},
   "outputs": [
    {
     "data": {
      "text/html": [
       "<div>\n",
       "<style scoped>\n",
       "    .dataframe tbody tr th:only-of-type {\n",
       "        vertical-align: middle;\n",
       "    }\n",
       "\n",
       "    .dataframe tbody tr th {\n",
       "        vertical-align: top;\n",
       "    }\n",
       "\n",
       "    .dataframe thead th {\n",
       "        text-align: right;\n",
       "    }\n",
       "</style>\n",
       "<table border=\"1\" class=\"dataframe\">\n",
       "  <thead>\n",
       "    <tr style=\"text-align: right;\">\n",
       "      <th></th>\n",
       "      <th>X1</th>\n",
       "      <th>X2</th>\n",
       "    </tr>\n",
       "  </thead>\n",
       "  <tbody>\n",
       "    <tr>\n",
       "      <th>0</th>\n",
       "      <td>22</td>\n",
       "      <td>15</td>\n",
       "    </tr>\n",
       "    <tr>\n",
       "      <th>1</th>\n",
       "      <td>22</td>\n",
       "      <td>14</td>\n",
       "    </tr>\n",
       "    <tr>\n",
       "      <th>2</th>\n",
       "      <td>25</td>\n",
       "      <td>18</td>\n",
       "    </tr>\n",
       "    <tr>\n",
       "      <th>3</th>\n",
       "      <td>26</td>\n",
       "      <td>13</td>\n",
       "    </tr>\n",
       "    <tr>\n",
       "      <th>4</th>\n",
       "      <td>24</td>\n",
       "      <td>12</td>\n",
       "    </tr>\n",
       "    <tr>\n",
       "      <th>5</th>\n",
       "      <td>28</td>\n",
       "      <td>11</td>\n",
       "    </tr>\n",
       "    <tr>\n",
       "      <th>6</th>\n",
       "      <td>29</td>\n",
       "      <td>11</td>\n",
       "    </tr>\n",
       "    <tr>\n",
       "      <th>7</th>\n",
       "      <td>27</td>\n",
       "      <td>10</td>\n",
       "    </tr>\n",
       "    <tr>\n",
       "      <th>8</th>\n",
       "      <td>24</td>\n",
       "      <td>5</td>\n",
       "    </tr>\n",
       "    <tr>\n",
       "      <th>9</th>\n",
       "      <td>33</td>\n",
       "      <td>9</td>\n",
       "    </tr>\n",
       "    <tr>\n",
       "      <th>10</th>\n",
       "      <td>39</td>\n",
       "      <td>7</td>\n",
       "    </tr>\n",
       "    <tr>\n",
       "      <th>11</th>\n",
       "      <td>42</td>\n",
       "      <td>3</td>\n",
       "    </tr>\n",
       "  </tbody>\n",
       "</table>\n",
       "</div>"
      ],
      "text/plain": [
       "    X1  X2\n",
       "0   22  15\n",
       "1   22  14\n",
       "2   25  18\n",
       "3   26  13\n",
       "4   24  12\n",
       "5   28  11\n",
       "6   29  11\n",
       "7   27  10\n",
       "8   24   5\n",
       "9   33   9\n",
       "10  39   7\n",
       "11  42   3"
      ]
     },
     "execution_count": 27,
     "metadata": {},
     "output_type": "execute_result"
    }
   ],
   "source": [
    "X = df[['X1','X2']]\n",
    "X"
   ]
  },
  {
   "cell_type": "code",
   "execution_count": 28,
   "id": "2c7cb8eb",
   "metadata": {},
   "outputs": [],
   "source": [
    "from sklearn.model_selection import train_test_split\n",
    "X_train, X_test, y_train, y_test = train_test_split(X, y, test_size=0.33, random_state=42)"
   ]
  },
  {
   "cell_type": "code",
   "execution_count": 29,
   "id": "e8be0352",
   "metadata": {},
   "outputs": [
    {
     "data": {
      "text/html": [
       "<div>\n",
       "<style scoped>\n",
       "    .dataframe tbody tr th:only-of-type {\n",
       "        vertical-align: middle;\n",
       "    }\n",
       "\n",
       "    .dataframe tbody tr th {\n",
       "        vertical-align: top;\n",
       "    }\n",
       "\n",
       "    .dataframe thead th {\n",
       "        text-align: right;\n",
       "    }\n",
       "</style>\n",
       "<table border=\"1\" class=\"dataframe\">\n",
       "  <thead>\n",
       "    <tr style=\"text-align: right;\">\n",
       "      <th></th>\n",
       "      <th>X1</th>\n",
       "      <th>X2</th>\n",
       "    </tr>\n",
       "  </thead>\n",
       "  <tbody>\n",
       "    <tr>\n",
       "      <th>5</th>\n",
       "      <td>28</td>\n",
       "      <td>11</td>\n",
       "    </tr>\n",
       "    <tr>\n",
       "      <th>2</th>\n",
       "      <td>25</td>\n",
       "      <td>18</td>\n",
       "    </tr>\n",
       "    <tr>\n",
       "      <th>1</th>\n",
       "      <td>22</td>\n",
       "      <td>14</td>\n",
       "    </tr>\n",
       "    <tr>\n",
       "      <th>11</th>\n",
       "      <td>42</td>\n",
       "      <td>3</td>\n",
       "    </tr>\n",
       "    <tr>\n",
       "      <th>4</th>\n",
       "      <td>24</td>\n",
       "      <td>12</td>\n",
       "    </tr>\n",
       "  </tbody>\n",
       "</table>\n",
       "</div>"
      ],
      "text/plain": [
       "    X1  X2\n",
       "5   28  11\n",
       "2   25  18\n",
       "1   22  14\n",
       "11  42   3\n",
       "4   24  12"
      ]
     },
     "execution_count": 29,
     "metadata": {},
     "output_type": "execute_result"
    }
   ],
   "source": [
    "X_train.head()"
   ]
  },
  {
   "cell_type": "code",
   "execution_count": 30,
   "id": "50f2cc0c",
   "metadata": {},
   "outputs": [
    {
     "data": {
      "text/plain": [
       "8"
      ]
     },
     "execution_count": 30,
     "metadata": {},
     "output_type": "execute_result"
    }
   ],
   "source": [
    "len(X_train)"
   ]
  },
  {
   "cell_type": "code",
   "execution_count": 31,
   "id": "3e73d636",
   "metadata": {},
   "outputs": [
    {
     "data": {
      "text/plain": [
       "4"
      ]
     },
     "execution_count": 31,
     "metadata": {},
     "output_type": "execute_result"
    }
   ],
   "source": [
    "len(X_test)"
   ]
  },
  {
   "cell_type": "code",
   "execution_count": 32,
   "id": "8f29454a",
   "metadata": {},
   "outputs": [],
   "source": [
    "from sklearn.linear_model import LinearRegression"
   ]
  },
  {
   "cell_type": "code",
   "execution_count": 33,
   "id": "91198f8b",
   "metadata": {},
   "outputs": [],
   "source": [
    "model =LinearRegression()"
   ]
  },
  {
   "cell_type": "code",
   "execution_count": 34,
   "id": "51a5e7d2",
   "metadata": {},
   "outputs": [
    {
     "data": {
      "text/plain": [
       "LinearRegression()"
      ]
     },
     "execution_count": 34,
     "metadata": {},
     "output_type": "execute_result"
    }
   ],
   "source": [
    "model.fit(X_train,y_train) "
   ]
  },
  {
   "cell_type": "code",
   "execution_count": 35,
   "id": "15ced24b",
   "metadata": {},
   "outputs": [],
   "source": [
    "test_model=model.predict(X_test)"
   ]
  },
  {
   "cell_type": "code",
   "execution_count": 36,
   "id": "fe0677b2",
   "metadata": {},
   "outputs": [
    {
     "data": {
      "text/plain": [
       "array([73.41369048, 69.51875902, 58.49684343, 75.31998557])"
      ]
     },
     "execution_count": 36,
     "metadata": {},
     "output_type": "execute_result"
    }
   ],
   "source": [
    "test_model"
   ]
  },
  {
   "cell_type": "code",
   "execution_count": 50,
   "id": "c5e2619b",
   "metadata": {},
   "outputs": [],
   "source": [
    "from sklearn.metrics import mean_squared_error,mean_absolute_error"
   ]
  },
  {
   "cell_type": "code",
   "execution_count": 53,
   "id": "80375392",
   "metadata": {},
   "outputs": [
    {
     "data": {
      "text/plain": [
       "<AxesSubplot:xlabel='X1', ylabel='Count'>"
      ]
     },
     "execution_count": 53,
     "metadata": {},
     "output_type": "execute_result"
    },
    {
     "data": {
      "image/png": "[encoded data removed]",
      "text/plain": [
       "<Figure size 432x288 with 1 Axes>"
      ]
     },
     "metadata": {
      "needs_background": "light"
     },
     "output_type": "display_data"
    }
   ],
   "source": [
    "import seaborn as sns\n",
    "sns.histplot(data=df,x=\"X1\",bins=20)"
   ]
  },
  {
   "cell_type": "code",
   "execution_count": 54,
   "id": "6f4fd521",
   "metadata": {},
   "outputs": [
    {
     "data": {
      "text/plain": [
       "<AxesSubplot:xlabel='X2', ylabel='Count'>"
      ]
     },
     "execution_count": 54,
     "metadata": {},
     "output_type": "execute_result"
    },
    {
     "data": {
      "image/png": "[encoded data removed]",
      "text/plain": [
       "<Figure size 432x288 with 1 Axes>"
      ]
     },
     "metadata": {
      "needs_background": "light"
     },
     "output_type": "display_data"
    }
   ],
   "source": [
    "import seaborn as sns\n",
    "sns.histplot(data=df,x=\"X2\",bins=20)"
   ]
  },
  {
   "cell_type": "code",
   "execution_count": 56,
   "id": "14286622",
   "metadata": {},
   "outputs": [
    {
     "data": {
      "text/plain": [
       "3.471094877344875"
      ]
     },
     "execution_count": 56,
     "metadata": {},
     "output_type": "execute_result"
    }
   ],
   "source": [
    "mean_absolute_error(y_test,test_model)"
   ]
  },
  {
   "cell_type": "code",
   "execution_count": 57,
   "id": "09b89864",
   "metadata": {},
   "outputs": [
    {
     "data": {
      "text/plain": [
       "15.852135627982825"
      ]
     },
     "execution_count": 57,
     "metadata": {},
     "output_type": "execute_result"
    }
   ],
   "source": [
    "mean_squared_error(y_test,test_model)"
   ]
  },
  {
   "cell_type": "code",
   "execution_count": 58,
   "id": "89fc6dd3",
   "metadata": {},
   "outputs": [
    {
     "data": {
      "text/plain": [
       "3.9814740521549083"
      ]
     },
     "execution_count": 58,
     "metadata": {},
     "output_type": "execute_result"
    }
   ],
   "source": [
    "np.sqrt(mean_squared_error(y_test,test_model))"
   ]
  },
  {
   "cell_type": "code",
   "execution_count": null,
   "id": "7c124b51",
   "metadata": {},
   "outputs": [],
   "source": [
    "sns.scatterplot(x=\"X\",y=\"y\",data=df)#scatter plot\n",
    "plt.plot(potential_spend,predicted_sales,color=\"green\")"
   ]
  },
  {
   "cell_type": "code",
   "execution_count": 23,
   "id": "cb29b7c5",
   "metadata": {},
   "outputs": [
    {
     "name": "stdout",
     "output_type": "stream",
     "text": [
      "Intercept: \n",
      " 74.59582972285749\n",
      "Coefficients: \n",
      " [ 0.          0.33138486 -1.61056402]\n"
     ]
    }
   ],
   "source": [
    "# with sklearn\n",
    "from sklearn import linear_model\n",
    "ml_regr = linear_model.LinearRegression()\n",
    "ml_regr.fit(X, Y)\n",
    "\n",
    "print('Intercept: \\n', ml_regr.intercept_)\n",
    "print('Coefficients: \\n', ml_regr.coef_)"
   ]
  },
  {
   "cell_type": "markdown",
   "id": "fd225940",
   "metadata": {},
   "source": [
    "#CHECKING FOR LINEAR REGRESSION ASSUMPTIONS \n",
    "\n",
    "1.Linear Relationship \n",
    "Aims at finding linear relationship between the independent and dependent variables \n",
    "\n",
    "TEST\n",
    "A simple visual way of determining this is through the use of scatter plot\n",
    "\n",
    "2.Variables follow a normal Distribution\n",
    "This assumption ensures that for each value of independent variable, the dependent variable is a random variable following a normal distribution and its mean lies on the regression line. \n",
    "\n",
    "TEST\n",
    "One of the ways to visually test for this assumption is through the  use of the Quantile-Quantile plot(Q-Q_Plot)\n"
   ]
  },
  {
   "cell_type": "code",
   "execution_count": 66,
   "id": "49dea47b",
   "metadata": {},
   "outputs": [
    {
     "name": "stdout",
     "output_type": "stream",
     "text": [
      "          X1        X2         Y\n",
      "X1  1.000000 -0.696592  0.770767\n",
      "X2 -0.696592  1.000000 -0.930008\n",
      "Y   0.770767 -0.930008  1.000000\n"
     ]
    }
   ],
   "source": [
    "#Multicollinearity test \n",
    "corr =df.corr()\n",
    "print(corr)"
   ]
  },
  {
   "cell_type": "code",
   "execution_count": 69,
   "id": "a3b563ae",
   "metadata": {},
   "outputs": [
    {
     "data": {
      "text/plain": [
       "Text(0.5, 1.08, 'Scatter Plot')"
      ]
     },
     "execution_count": 69,
     "metadata": {},
     "output_type": "execute_result"
    },
    {
     "data": {
      "image/png": "[encoded data removed]",
      "text/plain": [
       "<Figure size 648x648 with 12 Axes>"
      ]
     },
     "metadata": {},
     "output_type": "display_data"
    }
   ],
   "source": [
    "#Linearity and Normality Test \n",
    "import seaborn as sns \n",
    "sns.set(style=\"ticks\", color_codes=True, font_scale=2)\n",
    "g=sns.pairplot(df, height=3, diag_kind=\"hist\",kind=\"reg\")\n",
    "g.fig.suptitle(\"Scatter Plot\",y=1.08)  \n"
   ]
  },
  {
   "cell_type": "code",
   "execution_count": 47,
   "id": "28b2ec8a",
   "metadata": {},
   "outputs": [
    {
     "data": {
      "text/html": [
       "<div>\n",
       "<style scoped>\n",
       "    .dataframe tbody tr th:only-of-type {\n",
       "        vertical-align: middle;\n",
       "    }\n",
       "\n",
       "    .dataframe tbody tr th {\n",
       "        vertical-align: top;\n",
       "    }\n",
       "\n",
       "    .dataframe thead th {\n",
       "        text-align: right;\n",
       "    }\n",
       "</style>\n",
       "<table border=\"1\" class=\"dataframe\">\n",
       "  <thead>\n",
       "    <tr style=\"text-align: right;\">\n",
       "      <th></th>\n",
       "      <th>const</th>\n",
       "      <th>X1</th>\n",
       "      <th>X2</th>\n",
       "    </tr>\n",
       "  </thead>\n",
       "  <tbody>\n",
       "    <tr>\n",
       "      <th>10</th>\n",
       "      <td>1.0</td>\n",
       "      <td>39</td>\n",
       "      <td>7</td>\n",
       "    </tr>\n",
       "    <tr>\n",
       "      <th>9</th>\n",
       "      <td>1.0</td>\n",
       "      <td>33</td>\n",
       "      <td>9</td>\n",
       "    </tr>\n",
       "    <tr>\n",
       "      <th>0</th>\n",
       "      <td>1.0</td>\n",
       "      <td>22</td>\n",
       "      <td>15</td>\n",
       "    </tr>\n",
       "    <tr>\n",
       "      <th>8</th>\n",
       "      <td>1.0</td>\n",
       "      <td>24</td>\n",
       "      <td>5</td>\n",
       "    </tr>\n",
       "  </tbody>\n",
       "</table>\n",
       "</div>"
      ],
      "text/plain": [
       "    const  X1  X2\n",
       "10    1.0  39   7\n",
       "9     1.0  33   9\n",
       "0     1.0  22  15\n",
       "8     1.0  24   5"
      ]
     },
     "execution_count": 47,
     "metadata": {},
     "output_type": "execute_result"
    }
   ],
   "source": [
    "X_test = sm.add_constant(X_test)\n",
    "X_test"
   ]
  },
  {
   "cell_type": "code",
   "execution_count": 51,
   "id": "6257b6ca",
   "metadata": {},
   "outputs": [],
   "source": [
    "y_pred=mlr_model.predict(X_test)"
   ]
  },
  {
   "cell_type": "code",
   "execution_count": 52,
   "id": "1c09bc2f",
   "metadata": {},
   "outputs": [],
   "source": [
    "residual = y_test - y_pred"
   ]
  },
  {
   "cell_type": "code",
   "execution_count": 42,
   "id": "5dcc89ed",
   "metadata": {},
   "outputs": [],
   "source": [
    "#No Multicolinearity\n",
    "from statsmodels.stats.outliers_influence import variance_inflation_factor\n",
    "vif = [variance_inflation_factor(X_train.values, i) for i in range(X_train.shape[1])]"
   ]
  },
  {
   "cell_type": "code",
   "execution_count": 40,
   "id": "5a1a1980",
   "metadata": {},
   "outputs": [
    {
     "data": {
      "text/html": [
       "<div>\n",
       "<style scoped>\n",
       "    .dataframe tbody tr th:only-of-type {\n",
       "        vertical-align: middle;\n",
       "    }\n",
       "\n",
       "    .dataframe tbody tr th {\n",
       "        vertical-align: top;\n",
       "    }\n",
       "\n",
       "    .dataframe thead th {\n",
       "        text-align: right;\n",
       "    }\n",
       "</style>\n",
       "<table border=\"1\" class=\"dataframe\">\n",
       "  <thead>\n",
       "    <tr style=\"text-align: right;\">\n",
       "      <th></th>\n",
       "      <th>X1</th>\n",
       "      <th>X2</th>\n",
       "    </tr>\n",
       "  </thead>\n",
       "  <tbody>\n",
       "    <tr>\n",
       "      <th>vif</th>\n",
       "      <td>4.085853</td>\n",
       "      <td>4.085853</td>\n",
       "    </tr>\n",
       "  </tbody>\n",
       "</table>\n",
       "</div>"
      ],
      "text/plain": [
       "           X1        X2\n",
       "vif  4.085853  4.085853"
      ]
     },
     "execution_count": 40,
     "metadata": {},
     "output_type": "execute_result"
    }
   ],
   "source": [
    "pd.DataFrame({'vif': vif[0:]}, index=X_train.columns).T\n",
    "\"\"\"Little or no multicollinearity \n",
    "This assumption aims to test correlation between independent variables.\n",
    "If multicollinearity exists between them (i.e independent variables are highly correlated), they are no longer independent.\n",
    "TEST\n",
    "Correlation Analysis (others are variance inflation factor (VIF)) and condition Index\n",
    "If you find any values in which the absolute value of their correlation is >=0.8, the multicollinearity \n",
    "Assumption is being broken.\n",
    "\"\"\""
   ]
  },
  {
   "cell_type": "code",
   "execution_count": 53,
   "id": "42e3c0dd",
   "metadata": {},
   "outputs": [
    {
     "name": "stderr",
     "output_type": "stream",
     "text": [
      "C:\\Users\\USER\\anaconda3\\lib\\site-packages\\seaborn\\distributions.py:2557: FutureWarning: `distplot` is a deprecated function and will be removed in a future version. Please adapt your code to use either `displot` (a figure-level function with similar flexibility) or `histplot` (an axes-level function for histograms).\n",
      "  warnings.warn(msg, FutureWarning)\n"
     ]
    },
    {
     "data": {
      "text/plain": [
       "<AxesSubplot:ylabel='Density'>"
      ]
     },
     "execution_count": 53,
     "metadata": {},
     "output_type": "execute_result"
    },
    {
     "data": {
      "image/png": "[encoded data removed]",
      "text/plain": [
       "<Figure size 432x288 with 1 Axes>"
      ]
     },
     "metadata": {
      "needs_background": "light"
     },
     "output_type": "display_data"
    }
   ],
   "source": [
    "#Normailty of Residual\n",
    "sns.distplot(residual)"
   ]
  },
  {
   "cell_type": "code",
   "execution_count": 55,
   "id": "854a5c75",
   "metadata": {},
   "outputs": [
    {
     "data": {
      "image/png": "[encoded data removed]",
      "text/plain": [
       "<Figure size 432x180 with 1 Axes>"
      ]
     },
     "metadata": {
      "needs_background": "light"
     },
     "output_type": "display_data"
    }
   ],
   "source": [
    "import scipy as sp\n",
    "fig, ax = plt.subplots(figsize=(6,2.5))\n",
    "_, (__, ___, r) = sp.stats.probplot(residual, plot=ax, fit=True)"
   ]
  },
  {
   "cell_type": "code",
   "execution_count": 56,
   "id": "58bbcaa7",
   "metadata": {},
   "outputs": [
    {
     "data": {
      "text/plain": [
       "0.873393042317133"
      ]
     },
     "execution_count": 56,
     "metadata": {},
     "output_type": "execute_result"
    }
   ],
   "source": [
    "np.mean(residual)"
   ]
  },
  {
   "cell_type": "code",
   "execution_count": 85,
   "id": "e7602159",
   "metadata": {},
   "outputs": [
    {
     "data": {
      "text/plain": [
       "<function matplotlib.pyplot.show(close=None, block=None)>"
      ]
     },
     "execution_count": 85,
     "metadata": {},
     "output_type": "execute_result"
    },
    {
     "data": {
      "image/png": "[encoded data removed]",
      "text/plain": [
       "<Figure size 720x432 with 1 Axes>"
      ]
     },
     "metadata": {},
     "output_type": "display_data"
    }
   ],
   "source": [
    "#Normality of error / residue \n",
    "import scipy.stats as stats \n",
    "fig, ax=plt.subplots(figsize=(10,6))\n",
    "stats.probplot(residual, dist=\"norm\",plot=plt)\n",
    "plt.show \n"
   ]
  },
  {
   "cell_type": "code",
   "execution_count": 76,
   "id": "9ded01c8",
   "metadata": {},
   "outputs": [
    {
     "data": {
      "text/plain": [
       "Text(0.5, 1.0, 'Homoscedasticity')"
      ]
     },
     "execution_count": 76,
     "metadata": {},
     "output_type": "execute_result"
    },
    {
     "data": {
      "image/png": "[encoded data removed]",
      "text/plain": [
       "<Figure size 432x180 with 1 Axes>"
      ]
     },
     "metadata": {},
     "output_type": "display_data"
    }
   ],
   "source": [
    "#Homoscedasticity\n",
    "fig, ax = plt.subplots(figsize=(6,2.5))\n",
    "_ = ax.scatter(y_pred, residual)\n",
    "plt.title(\"Homoscedasticity\")\n",
    "\"\"\"Data is homoscedastic \n",
    "The linear regression analysis makes is homoscedasticity (i.e the error terms along the regression line are equal)\n",
    "This analysis is also applied to the residuals of your linear regression model. \n",
    "\n",
    "TEST\n",
    "Homoscedasticity can be easily tested with a Scatterplot of the residuals. \n",
    "\"\"\""
   ]
  },
  {
   "cell_type": "code",
   "execution_count": 91,
   "id": "0328b5c4",
   "metadata": {},
   "outputs": [
    {
     "data": {
      "image/png": "[encoded data removed]",
      "text/plain": [
       "<Figure size 432x288 with 1 Axes>"
      ]
     },
     "metadata": {},
     "output_type": "display_data"
    }
   ],
   "source": [
    "#No autocorrelation of residuals\n",
    "import statsmodels.tsa.api as smt\n",
    "acf = smt.graphics.plot_acf(residual, lags=3 , alpha=0.05)\n",
    "acf.show()\n",
    "\"\"\"Little or No Autocorrelation \n",
    "This next assumption is much like our previous one, except it applies to the residuals of your linear regression model. \n",
    "Linear regression analysis requires that there is little or no autocorrelation in the data.\n",
    "TEST\n",
    "You can test the liner regression model for autocorrelation with Durbin-Watson test(d), \n",
    "while d can assume values between 0 and 4 ,values around 2 indicates no autocorrelation. As a rule of thumb values of 1.5\n",
    "\"\"\""
   ]
  },
  {
   "cell_type": "markdown",
   "id": "b428f274",
   "metadata": {},
   "source": [
    "#Conclusion\n",
    "Here performd multiple linear regression in Python using both \n",
    "sklearn and statsmodels in this both models the coefficient values are same. \n",
    "we got consistent results by applying both sklearn and statsmodels.\n",
    "\n",
    "#Multicollinearity test : If the VIF value of greater than 10 signifies that heavy Multicollinearity in the dataset,\n",
    "    a value less than 5 for a given feature specifies that there is a little relatioship that feature holds with \n",
    "    other feature.\n",
    "    In this case the VIF score are 4.085853 with independet having vey weak VIF score within them, \n",
    "    so the assumption of Multicollinearity holds True in our given schemes of things. \n",
    "    \n",
    "#Normailty of Residual\n",
    "Residual is the differenec berween y_test & y_pred, if you check the plot for Normal distrubution , \n",
    "the plot is near Normal distrubution but its not entirely Normal distrubution and centered near to zero,\n",
    "which one of the assumptions of Normal distrubution. \n",
    "One more way to validate Normal distrubution is Q-Q Plot, Here I can see that the theoritical values fall on same line, \n",
    "i.e most of the values near the line, this shows clear that the overall distribution is near Normal distrubution. \n",
    "here we can observe the mean value 0.87 it inferes that genereaal this not enough good value, meanschnege cureve towards right.\n",
    "i.e to ge normal distribution the value of mean should be zero or near to zero. so our assumption is True. \n",
    "\n",
    "#Homoscedasticity or Constant variance \n",
    "Here we need to observe the visuvalization, overall distribution is randomly sampled, \n",
    "does it kind of inrecare with increase in residual values, here my predections on X-axis, \n",
    "overall residuals on Y-axis,i find that there is no pattern based on the predection and residual \n",
    "values, and move cenetred arond zero value.so our assumption is True.   \n",
    "\n",
    "#No autocorrelation of residuals\n",
    "Here there shoulb be absolutely no correleation of the residual value is with any of its \n",
    "lagged verstions which is called as autocorrelation, I observed in tha plot the residuals itself have a heavy correlation, \n",
    "if you observe the most of auto correlated values non of the values corss the threashold of beying significant,\n",
    "so the blue color signified here shows the significance level of the autocorrelation which it should cross \n",
    "in orderd to be significant in termd of auto correlation , so here there no value cross the blue bounndary ,\n",
    "so this linear regression model followign the assumptios of the linear regression. "
   ]
  }
 ],
 "metadata": {
  "kernelspec": {
   "display_name": "Python 3",
   "language": "python",
   "name": "python3"
  },
  "language_info": {
   "codemirror_mode": {
    "name": "ipython",
    "version": 3
   },
   "file_extension": ".py",
   "mimetype": "text/x-python",
   "name": "python",
   "nbconvert_exporter": "python",
   "pygments_lexer": "ipython3",
   "version": "3.8.8"
  }
 },
 "nbformat": 4,
 "nbformat_minor": 5
}
